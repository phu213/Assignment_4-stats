{
 "cells": [
  {
   "cell_type": "code",
   "execution_count": 36,
   "metadata": {},
   "outputs": [],
   "source": [
    "#Import Stuff\n",
    "import thinkplot\n",
    "from sklearn.linear_model import LogisticRegression\n",
    "from sklearn.metrics import accuracy_score, f1_score, log_loss\n",
    "from sklearn.model_selection import train_test_split\n",
    "import statsmodels.formula.api as sm\n",
    "import thinkstats2\n",
    "import pandas as pd\n",
    "import numpy as np\n",
    "from sklearn.metrics import mean_squared_error\n",
    "from sklearn.metrics import confusion_matrix\n",
    "import scipy.stats as ss\n",
    "import math\n",
    "import random\n",
    "\n",
    "##Seaborn for fancy plots. \n",
    "import matplotlib.pyplot as plt\n",
    "import seaborn as sns\n",
    "plt.rcParams[\"figure.figsize\"] = (8,8)"
   ]
  },
  {
   "cell_type": "code",
   "execution_count": 24,
   "metadata": {},
   "outputs": [
    {
     "data": {
      "text/html": [
       "<div>\n",
       "<style scoped>\n",
       "    .dataframe tbody tr th:only-of-type {\n",
       "        vertical-align: middle;\n",
       "    }\n",
       "\n",
       "    .dataframe tbody tr th {\n",
       "        vertical-align: top;\n",
       "    }\n",
       "\n",
       "    .dataframe thead th {\n",
       "        text-align: right;\n",
       "    }\n",
       "</style>\n",
       "<table border=\"1\" class=\"dataframe\">\n",
       "  <thead>\n",
       "    <tr style=\"text-align: right;\">\n",
       "      <th></th>\n",
       "      <th>person_age</th>\n",
       "      <th>person_income</th>\n",
       "      <th>person_home_ownership</th>\n",
       "      <th>person_emp_length</th>\n",
       "      <th>loan_intent</th>\n",
       "      <th>loan_grade</th>\n",
       "      <th>loan_amnt</th>\n",
       "      <th>loan_int_rate</th>\n",
       "      <th>loan_status</th>\n",
       "      <th>loan_percent_income</th>\n",
       "      <th>cb_person_default_on_file</th>\n",
       "      <th>cb_person_cred_hist_length</th>\n",
       "    </tr>\n",
       "  </thead>\n",
       "  <tbody>\n",
       "    <tr>\n",
       "      <th>0</th>\n",
       "      <td>22</td>\n",
       "      <td>59000</td>\n",
       "      <td>RENT</td>\n",
       "      <td>123.0</td>\n",
       "      <td>PERSONAL</td>\n",
       "      <td>D</td>\n",
       "      <td>35000</td>\n",
       "      <td>16.02</td>\n",
       "      <td>1</td>\n",
       "      <td>0.59</td>\n",
       "      <td>Y</td>\n",
       "      <td>3</td>\n",
       "    </tr>\n",
       "    <tr>\n",
       "      <th>1</th>\n",
       "      <td>21</td>\n",
       "      <td>9600</td>\n",
       "      <td>OWN</td>\n",
       "      <td>5.0</td>\n",
       "      <td>EDUCATION</td>\n",
       "      <td>B</td>\n",
       "      <td>1000</td>\n",
       "      <td>11.14</td>\n",
       "      <td>0</td>\n",
       "      <td>0.10</td>\n",
       "      <td>N</td>\n",
       "      <td>2</td>\n",
       "    </tr>\n",
       "    <tr>\n",
       "      <th>2</th>\n",
       "      <td>25</td>\n",
       "      <td>9600</td>\n",
       "      <td>MORTGAGE</td>\n",
       "      <td>1.0</td>\n",
       "      <td>MEDICAL</td>\n",
       "      <td>C</td>\n",
       "      <td>5500</td>\n",
       "      <td>12.87</td>\n",
       "      <td>1</td>\n",
       "      <td>0.57</td>\n",
       "      <td>N</td>\n",
       "      <td>3</td>\n",
       "    </tr>\n",
       "    <tr>\n",
       "      <th>3</th>\n",
       "      <td>23</td>\n",
       "      <td>65500</td>\n",
       "      <td>RENT</td>\n",
       "      <td>4.0</td>\n",
       "      <td>MEDICAL</td>\n",
       "      <td>C</td>\n",
       "      <td>35000</td>\n",
       "      <td>15.23</td>\n",
       "      <td>1</td>\n",
       "      <td>0.53</td>\n",
       "      <td>N</td>\n",
       "      <td>2</td>\n",
       "    </tr>\n",
       "    <tr>\n",
       "      <th>4</th>\n",
       "      <td>24</td>\n",
       "      <td>54400</td>\n",
       "      <td>RENT</td>\n",
       "      <td>8.0</td>\n",
       "      <td>MEDICAL</td>\n",
       "      <td>C</td>\n",
       "      <td>35000</td>\n",
       "      <td>14.27</td>\n",
       "      <td>1</td>\n",
       "      <td>0.55</td>\n",
       "      <td>Y</td>\n",
       "      <td>4</td>\n",
       "    </tr>\n",
       "  </tbody>\n",
       "</table>\n",
       "</div>"
      ],
      "text/plain": [
       "   person_age  person_income person_home_ownership  person_emp_length  \\\n",
       "0          22          59000                  RENT              123.0   \n",
       "1          21           9600                   OWN                5.0   \n",
       "2          25           9600              MORTGAGE                1.0   \n",
       "3          23          65500                  RENT                4.0   \n",
       "4          24          54400                  RENT                8.0   \n",
       "\n",
       "  loan_intent loan_grade  loan_amnt  loan_int_rate  loan_status  \\\n",
       "0    PERSONAL          D      35000          16.02            1   \n",
       "1   EDUCATION          B       1000          11.14            0   \n",
       "2     MEDICAL          C       5500          12.87            1   \n",
       "3     MEDICAL          C      35000          15.23            1   \n",
       "4     MEDICAL          C      35000          14.27            1   \n",
       "\n",
       "   loan_percent_income cb_person_default_on_file  cb_person_cred_hist_length  \n",
       "0                 0.59                         Y                           3  \n",
       "1                 0.10                         N                           2  \n",
       "2                 0.57                         N                           3  \n",
       "3                 0.53                         N                           2  \n",
       "4                 0.55                         Y                           4  "
      ]
     },
     "execution_count": 24,
     "metadata": {},
     "output_type": "execute_result"
    }
   ],
   "source": [
    "#Credit Data\n",
    "df = pd.read_csv(\"credit_risk_dataset.csv\")\n",
    "df.head()\n"
   ]
  },
  {
   "cell_type": "code",
   "execution_count": 3,
   "metadata": {},
   "outputs": [
    {
     "data": {
      "text/html": [
       "<div>\n",
       "<style scoped>\n",
       "    .dataframe tbody tr th:only-of-type {\n",
       "        vertical-align: middle;\n",
       "    }\n",
       "\n",
       "    .dataframe tbody tr th {\n",
       "        vertical-align: top;\n",
       "    }\n",
       "\n",
       "    .dataframe thead th {\n",
       "        text-align: right;\n",
       "    }\n",
       "</style>\n",
       "<table border=\"1\" class=\"dataframe\">\n",
       "  <thead>\n",
       "    <tr style=\"text-align: right;\">\n",
       "      <th></th>\n",
       "      <th>BOROUGH</th>\n",
       "      <th>BLOCK</th>\n",
       "      <th>LOT</th>\n",
       "      <th>ZIP CODE</th>\n",
       "      <th>RESIDENTIAL UNITS</th>\n",
       "      <th>TOTAL UNITS</th>\n",
       "      <th>GROSS SQUARE FEET</th>\n",
       "      <th>YEAR BUILT</th>\n",
       "      <th>TAX CLASS AT TIME OF SALE</th>\n",
       "      <th>BUILDING CLASS AT TIME OF SALE</th>\n",
       "      <th>SALE PRICE</th>\n",
       "    </tr>\n",
       "  </thead>\n",
       "  <tbody>\n",
       "    <tr>\n",
       "      <th>0</th>\n",
       "      <td>1</td>\n",
       "      <td>392</td>\n",
       "      <td>6</td>\n",
       "      <td>10009</td>\n",
       "      <td>5</td>\n",
       "      <td>5</td>\n",
       "      <td>6440</td>\n",
       "      <td>1900</td>\n",
       "      <td>Low</td>\n",
       "      <td>C2</td>\n",
       "      <td>6625000</td>\n",
       "    </tr>\n",
       "    <tr>\n",
       "      <th>1</th>\n",
       "      <td>1</td>\n",
       "      <td>402</td>\n",
       "      <td>21</td>\n",
       "      <td>10009</td>\n",
       "      <td>10</td>\n",
       "      <td>10</td>\n",
       "      <td>6794</td>\n",
       "      <td>1913</td>\n",
       "      <td>Low</td>\n",
       "      <td>C4</td>\n",
       "      <td>3936272</td>\n",
       "    </tr>\n",
       "    <tr>\n",
       "      <th>2</th>\n",
       "      <td>1</td>\n",
       "      <td>404</td>\n",
       "      <td>55</td>\n",
       "      <td>10009</td>\n",
       "      <td>6</td>\n",
       "      <td>6</td>\n",
       "      <td>4615</td>\n",
       "      <td>1900</td>\n",
       "      <td>Low</td>\n",
       "      <td>C2</td>\n",
       "      <td>8000000</td>\n",
       "    </tr>\n",
       "    <tr>\n",
       "      <th>3</th>\n",
       "      <td>1</td>\n",
       "      <td>406</td>\n",
       "      <td>32</td>\n",
       "      <td>10009</td>\n",
       "      <td>8</td>\n",
       "      <td>8</td>\n",
       "      <td>4226</td>\n",
       "      <td>1920</td>\n",
       "      <td>Low</td>\n",
       "      <td>C4</td>\n",
       "      <td>3192840</td>\n",
       "    </tr>\n",
       "    <tr>\n",
       "      <th>4</th>\n",
       "      <td>1</td>\n",
       "      <td>387</td>\n",
       "      <td>153</td>\n",
       "      <td>10009</td>\n",
       "      <td>24</td>\n",
       "      <td>24</td>\n",
       "      <td>18523</td>\n",
       "      <td>1920</td>\n",
       "      <td>Low</td>\n",
       "      <td>D9</td>\n",
       "      <td>16232000</td>\n",
       "    </tr>\n",
       "  </tbody>\n",
       "</table>\n",
       "</div>"
      ],
      "text/plain": [
       "   BOROUGH  BLOCK  LOT  ZIP CODE  RESIDENTIAL UNITS  TOTAL UNITS  \\\n",
       "0        1    392    6     10009                  5            5   \n",
       "1        1    402   21     10009                 10           10   \n",
       "2        1    404   55     10009                  6            6   \n",
       "3        1    406   32     10009                  8            8   \n",
       "4        1    387  153     10009                 24           24   \n",
       "\n",
       "   GROSS SQUARE FEET  YEAR BUILT TAX CLASS AT TIME OF SALE  \\\n",
       "0               6440        1900                       Low   \n",
       "1               6794        1913                       Low   \n",
       "2               4615        1900                       Low   \n",
       "3               4226        1920                       Low   \n",
       "4              18523        1920                       Low   \n",
       "\n",
       "  BUILDING CLASS AT TIME OF SALE  SALE PRICE  \n",
       "0                             C2     6625000  \n",
       "1                             C4     3936272  \n",
       "2                             C2     8000000  \n",
       "3                             C4     3192840  \n",
       "4                             D9    16232000  "
      ]
     },
     "execution_count": 3,
     "metadata": {},
     "output_type": "execute_result"
    }
   ],
   "source": [
    "#Real Estate\n",
    "df = pd.read_csv(\"NYC_Real_Estate.csv\")\n",
    "df.head()"
   ]
  },
  {
   "cell_type": "markdown",
   "metadata": {},
   "source": [
    "<h1>Assignment 4</h1>\n",
    "<h3>Overview</h3>\n",
    "For this assignment you'll do a realistic exploration of data up to and including creating predictive regression model(s).\n",
    "<h3>Data</h3>\n",
    "The data is the included datasets:\n",
    "<ul>\n",
    "<li><h4>Linear Regression:</h4> \"NYC_Real_Estate.csv\", which is a subset of some real data on the housing market in NYC. You'll use this dataset to create a linear regression model.\n",
    "<li><h4>Logistic Regression:</h4> \"credit_risk_dataset.csv\", which is a set of simulated credit data. You'll use this dataset to create a logistic regression classification model.\n",
    "</ul>  \n",
    "\n",
    "<h3>Part 1 - Data Preparation: Both Datasets</h3>\n",
    "<h4>See the two previews above</h4>\n",
    "<h4>Note: There's nothing that you explicitly need to produce here, it is getting your data ready for the next step. </h4>\n",
    "The first part of your process should be to clean and prepare the data (each set). It is in its original form, so there's some stuff in there that isn't perfect. Some things to consider are:\n",
    "<ul>\n",
    "<li>Are the varaibles in the data relevant? Some may not be. Use both general knowledge and analysis to make a judgement. \n",
    "<li>Are there missing values? If so, what does that mean? Especially with the T/F columns in the data. \n",
    "<li>What data format is the data? Categorical/numerical? \n",
    "<li>Are there outliers? Should they stay?\n",
    "</ul>\n",
    "\n",
    "There's no expectation for you to do any extreme amount of research or analysis to use the data, the cleanup required should be reasonably simple, but required. What to keep/remove/change is up to you. There is not one fixed answer. As you make choices, note a justification. This preparation and clean up kind of blends into the EDA for each. \n",
    "\n",
    "<h3>Part 2 - Linear Regression - Real Estate Data: Sales Price (35% of grade)</h3>\n",
    "You'll do a linear regression to predict the <b>SALES PRICE</b>. As part of this you'll need to do some EDA (exploratory data analysis) which will involve walking through exploring and visualizing the data to make sense of what is there, what is useful, and what is not. \n",
    "\n",
    "<h3>Part 3 - Logistic Regression - Credit Data: Loan Status (35% of grade)</h3>\n",
    "You'll do a logistic regression to predict the <b>LOAN STATUS</b>. As part of this you'll need to do some EDA (exploratory data analysis) which will involve walking through exploring and visualizing the data to make sense of what is there, what is useful, and what is not.\n",
    "\n",
    "<h3>Part 4 - Are the Models Good (15% of grade)</h3>\n",
    "Please briefly note if the models you've created are good. Justify your answer. \n",
    "\n",
    "<h3>Overall Format (15% of grade)</h3>\n",
    "Please make your workbook readable. Someone should be able to read through from end to end and get a solid understanding of what happened and what the findings were. The goal is to basically say, \"here's a walkthrough of how I did this regression, and here are the results.\"\n",
    "\n",
    "You Formatting is important in making things clear. This shouldn't end up being insanely complex, if it does, you've likely overthought it in some way. \n",
    "\n",
    "<h3>Data Dictionary and Documentation</h3>\n",
    "<p>\n",
    "For the real estate data, there are some notes in the real_estate_notes.txt file in this repository that explains some of the data values. The PDF is the 'glossary of terms\" that the notes file refers to. \n",
    "</p>\n",
    "<p>\n",
    "For the credit data, there are some notes in the credit_notes.txt file. This one is really simple in terms of what the data is and means\n",
    "</p>\n",
    "<p>\n",
    "I don't think that you need much background information to make sense of this data, it has been simplified a bit. If something doesn't make sense, please ask.\n",
    "</p>\n",
    "\n",
    "<h3>Tools, Technologies, and Techniques</h3>\n",
    "<p>\n",
    "You can use whatever tools/packages you'd like to do the regression and the EDA. Thinkstats, thinkplot, seaborn, scipy, scikitlearn, statsmodels, etc are all fair game, as are anything else. You'll just need to import them.\n",
    "</p>"
   ]
  },
  {
   "cell_type": "markdown",
   "metadata": {},
   "source": [
    "<h2>Part 2 Linear Regression sale price part</h2>"
   ]
  },
  {
   "cell_type": "code",
   "execution_count": 5,
   "metadata": {},
   "outputs": [
    {
     "data": {
      "text/plain": [
       "<seaborn.axisgrid.PairGrid at 0x2235bdaf760>"
      ]
     },
     "execution_count": 5,
     "metadata": {},
     "output_type": "execute_result"
    },
    {
     "data": {
      "image/png": "[encoded data removed]",
      "text/plain": [
       "<Figure size 360x360 with 6 Axes>"
      ]
     },
     "metadata": {
      "needs_background": "light"
     },
     "output_type": "display_data"
    }
   ],
   "source": [
    "#Go.....\n",
    "#Linear  regression\n",
    "x1= \"GROSS SQUARE FEET\"\n",
    "y1= \"SALE PRICE\"\n",
    "d = df[[\"GROSS SQUARE FEET\", \"SALE PRICE\"]]\n",
    "sns.pairplot(d, kind=\"reg\")"
   ]
  },
  {
   "cell_type": "code",
   "execution_count": 6,
   "metadata": {},
   "outputs": [
    {
     "name": "stdout",
     "output_type": "stream",
     "text": [
      "Y intercept: 394960.20800829807\n",
      "Slope: 207.10830766122263\n"
     ]
    }
   ],
   "source": [
    "inter, slope = thinkstats2.LeastSquares(d[x1],d[y1])\n",
    "res = thinkstats2.Residuals(d[x1], d[y1], inter, slope)\n",
    "regLine = thinkstats2.FitLine(d[x1], inter, slope)\n",
    "print(\"Y intercept:\", inter)\n",
    "print(\"Slope:\", slope)"
   ]
  },
  {
   "cell_type": "code",
   "execution_count": 7,
   "metadata": {},
   "outputs": [
    {
     "data": {
      "text/plain": [
       "<AxesSubplot:xlabel='GROSS SQUARE FEET', ylabel='SALE PRICE'>"
      ]
     },
     "execution_count": 7,
     "metadata": {},
     "output_type": "execute_result"
    },
    {
     "data": {
      "image/png": "[encoded data removed]",
      "text/plain": [
       "<Figure size 576x576 with 1 Axes>"
      ]
     },
     "metadata": {
      "needs_background": "light"
     },
     "output_type": "display_data"
    }
   ],
   "source": [
    "sns.scatterplot(x=d[x1], y=d[y1])\n",
    "sns.lineplot(x=regLine[0], y=regLine[1])"
   ]
  },
  {
   "cell_type": "code",
   "execution_count": 8,
   "metadata": {},
   "outputs": [
    {
     "data": {
      "text/plain": [
       "<AxesSubplot:xlabel='GROSS SQUARE FEET', ylabel='SALE PRICE'>"
      ]
     },
     "execution_count": 8,
     "metadata": {},
     "output_type": "execute_result"
    },
    {
     "data": {
      "image/png": "[encoded data removed]",
      "text/plain": [
       "<Figure size 576x576 with 1 Axes>"
      ]
     },
     "metadata": {
      "needs_background": "light"
     },
     "output_type": "display_data"
    }
   ],
   "source": [
    "sns.residplot(x=d[x1], y=d[y1])"
   ]
  },
  {
   "cell_type": "code",
   "execution_count": 9,
   "metadata": {},
   "outputs": [],
   "source": [
    "def rmseFromResiduals(residuals):\n",
    "    SSE = 0\n",
    "    for i in range(len(residuals)):\n",
    "        SSE += (residuals[i]**2)\n",
    "    MSE = SSE/len(residuals)\n",
    "    return math.sqrt(MSE)"
   ]
  },
  {
   "cell_type": "code",
   "execution_count": 10,
   "metadata": {},
   "outputs": [
    {
     "data": {
      "text/plain": [
       "11933330.877345582"
      ]
     },
     "execution_count": 10,
     "metadata": {},
     "output_type": "execute_result"
    }
   ],
   "source": [
    "rmseFromResiduals(res)"
   ]
  },
  {
   "cell_type": "code",
   "execution_count": 11,
   "metadata": {},
   "outputs": [
    {
     "name": "stdout",
     "output_type": "stream",
     "text": [
      "                            OLS Regression Results                            \n",
      "==============================================================================\n",
      "Dep. Variable:             SALE PRICE   R-squared:                       0.207\n",
      "Model:                            OLS   Adj. R-squared:                  0.207\n",
      "Method:                 Least Squares   F-statistic:                 1.263e+04\n",
      "Date:                Fri, 03 Dec 2021   Prob (F-statistic):               0.00\n",
      "Time:                        22:24:31   Log-Likelihood:            -8.5465e+05\n",
      "No. Observations:               48248   AIC:                         1.709e+06\n",
      "Df Residuals:                   48246   BIC:                         1.709e+06\n",
      "Df Model:                           1                                         \n",
      "Covariance Type:            nonrobust                                         \n",
      "=====================================================================================\n",
      "                        coef    std err          t      P>|t|      [0.025      0.975]\n",
      "-------------------------------------------------------------------------------------\n",
      "const               3.95e+05   5.47e+04      7.214      0.000    2.88e+05    5.02e+05\n",
      "GROSS SQUARE FEET   207.1083      1.843    112.363      0.000     203.496     210.721\n",
      "==============================================================================\n",
      "Omnibus:                   181162.301   Durbin-Watson:                   1.826\n",
      "Prob(Omnibus):                  0.000   Jarque-Bera (JB):     370966371319.127\n",
      "Skew:                          83.462   Prob(JB):                         0.00\n",
      "Kurtosis:                   13586.148   Cond. No.                     2.99e+04\n",
      "==============================================================================\n",
      "\n",
      "Notes:\n",
      "[1] Standard Errors assume that the covariance matrix of the errors is correctly specified.\n",
      "[2] The condition number is large, 2.99e+04. This might indicate that there are\n",
      "strong multicollinearity or other numerical problems.\n"
     ]
    }
   ],
   "source": [
    "import statsmodels.api as sm\n",
    "X2 = sm.add_constant(d[x1])\n",
    "est = sm.OLS(d[y1], X2)\n",
    "est2 = est.fit()\n",
    "print(est2.summary())"
   ]
  },
  {
   "cell_type": "code",
   "execution_count": 12,
   "metadata": {},
   "outputs": [],
   "source": [
    "ypred = est2.predict(X2)"
   ]
  },
  {
   "cell_type": "code",
   "execution_count": 13,
   "metadata": {},
   "outputs": [
    {
     "data": {
      "text/plain": [
       "11933330.87734498"
      ]
     },
     "execution_count": 13,
     "metadata": {},
     "output_type": "execute_result"
    }
   ],
   "source": [
    "#Calculate the RMSE,  using the statsmodel function. \n",
    "from statsmodels.tools.eval_measures import rmse\n",
    "rmse(d[y1], ypred)"
   ]
  },
  {
   "cell_type": "code",
   "execution_count": 14,
   "metadata": {},
   "outputs": [
    {
     "data": {
      "text/plain": [
       "11933330.87734498"
      ]
     },
     "execution_count": 14,
     "metadata": {},
     "output_type": "execute_result"
    }
   ],
   "source": [
    "#Sklearn\n",
    "mean_squared_error(d[y1], ypred, squared=False)"
   ]
  },
  {
   "cell_type": "code",
   "execution_count": 15,
   "metadata": {},
   "outputs": [],
   "source": [
    "def rSquared(yvals, residuals):\n",
    "    return (1-(thinkstats2.Var(residuals)/thinkstats2.Var(yvals)))"
   ]
  },
  {
   "cell_type": "code",
   "execution_count": 16,
   "metadata": {},
   "outputs": [],
   "source": [
    "def rSquared_2(yvals, residuals):\n",
    "    RSS = 0\n",
    "    TSS = 0\n",
    "    ybar = yvals.mean()\n",
    "    for i in range(len(residuals)):\n",
    "        RSS += (residuals[i]**2)\n",
    "        TSS += ((yvals[i]-ybar)**2)\n",
    "    r2 = 1-(RSS/TSS)\n",
    "    return r2"
   ]
  },
  {
   "cell_type": "code",
   "execution_count": 17,
   "metadata": {},
   "outputs": [
    {
     "data": {
      "text/plain": [
       "0.20741035864157753"
      ]
     },
     "execution_count": 17,
     "metadata": {},
     "output_type": "execute_result"
    }
   ],
   "source": [
    "rSquared_2(d[y1], res)"
   ]
  },
  {
   "cell_type": "code",
   "execution_count": 18,
   "metadata": {},
   "outputs": [
    {
     "data": {
      "text/plain": [
       "0.20741035864208768"
      ]
     },
     "execution_count": 18,
     "metadata": {},
     "output_type": "execute_result"
    }
   ],
   "source": [
    "1-thinkstats2.Corr(d[y1], res)**2"
   ]
  },
  {
   "cell_type": "markdown",
   "metadata": {},
   "source": [
    "<h2>Part 3 Logistic Regression Loan Status part</h2>"
   ]
  },
  {
   "cell_type": "code",
   "execution_count": 25,
   "metadata": {},
   "outputs": [
    {
     "data": {
      "text/plain": [
       "0.7818360394094718"
      ]
     },
     "execution_count": 25,
     "metadata": {},
     "output_type": "execute_result"
    }
   ],
   "source": [
    "#get the baseline for the Loan status\n",
    "1 - df[\"loan_status\"].mean()"
   ]
  },
  {
   "cell_type": "code",
   "execution_count": 27,
   "metadata": {},
   "outputs": [],
   "source": [
    "#split the data\n",
    "test1, train1 = train_test_split(df,test_size=0.3)"
   ]
  },
  {
   "cell_type": "code",
   "execution_count": 29,
   "metadata": {},
   "outputs": [
    {
     "data": {
      "text/html": [
       "<div>\n",
       "<style scoped>\n",
       "    .dataframe tbody tr th:only-of-type {\n",
       "        vertical-align: middle;\n",
       "    }\n",
       "\n",
       "    .dataframe tbody tr th {\n",
       "        vertical-align: top;\n",
       "    }\n",
       "\n",
       "    .dataframe thead th {\n",
       "        text-align: right;\n",
       "    }\n",
       "</style>\n",
       "<table border=\"1\" class=\"dataframe\">\n",
       "  <thead>\n",
       "    <tr style=\"text-align: right;\">\n",
       "      <th></th>\n",
       "      <th>person_age</th>\n",
       "      <th>person_income</th>\n",
       "      <th>person_home_ownership</th>\n",
       "      <th>person_emp_length</th>\n",
       "      <th>loan_intent</th>\n",
       "      <th>loan_grade</th>\n",
       "      <th>loan_amnt</th>\n",
       "      <th>loan_int_rate</th>\n",
       "      <th>loan_status</th>\n",
       "      <th>loan_percent_income</th>\n",
       "      <th>cb_person_default_on_file</th>\n",
       "      <th>cb_person_cred_hist_length</th>\n",
       "    </tr>\n",
       "  </thead>\n",
       "  <tbody>\n",
       "    <tr>\n",
       "      <th>0</th>\n",
       "      <td>22</td>\n",
       "      <td>59000</td>\n",
       "      <td>RENT</td>\n",
       "      <td>123.0</td>\n",
       "      <td>PERSONAL</td>\n",
       "      <td>D</td>\n",
       "      <td>35000</td>\n",
       "      <td>16.02</td>\n",
       "      <td>1</td>\n",
       "      <td>0.59</td>\n",
       "      <td>Y</td>\n",
       "      <td>3</td>\n",
       "    </tr>\n",
       "    <tr>\n",
       "      <th>1</th>\n",
       "      <td>21</td>\n",
       "      <td>9600</td>\n",
       "      <td>OWN</td>\n",
       "      <td>5.0</td>\n",
       "      <td>EDUCATION</td>\n",
       "      <td>B</td>\n",
       "      <td>1000</td>\n",
       "      <td>11.14</td>\n",
       "      <td>0</td>\n",
       "      <td>0.10</td>\n",
       "      <td>N</td>\n",
       "      <td>2</td>\n",
       "    </tr>\n",
       "    <tr>\n",
       "      <th>2</th>\n",
       "      <td>25</td>\n",
       "      <td>9600</td>\n",
       "      <td>MORTGAGE</td>\n",
       "      <td>1.0</td>\n",
       "      <td>MEDICAL</td>\n",
       "      <td>C</td>\n",
       "      <td>5500</td>\n",
       "      <td>12.87</td>\n",
       "      <td>1</td>\n",
       "      <td>0.57</td>\n",
       "      <td>N</td>\n",
       "      <td>3</td>\n",
       "    </tr>\n",
       "    <tr>\n",
       "      <th>3</th>\n",
       "      <td>23</td>\n",
       "      <td>65500</td>\n",
       "      <td>RENT</td>\n",
       "      <td>4.0</td>\n",
       "      <td>MEDICAL</td>\n",
       "      <td>C</td>\n",
       "      <td>35000</td>\n",
       "      <td>15.23</td>\n",
       "      <td>1</td>\n",
       "      <td>0.53</td>\n",
       "      <td>N</td>\n",
       "      <td>2</td>\n",
       "    </tr>\n",
       "    <tr>\n",
       "      <th>4</th>\n",
       "      <td>24</td>\n",
       "      <td>54400</td>\n",
       "      <td>RENT</td>\n",
       "      <td>8.0</td>\n",
       "      <td>MEDICAL</td>\n",
       "      <td>C</td>\n",
       "      <td>35000</td>\n",
       "      <td>14.27</td>\n",
       "      <td>1</td>\n",
       "      <td>0.55</td>\n",
       "      <td>Y</td>\n",
       "      <td>4</td>\n",
       "    </tr>\n",
       "  </tbody>\n",
       "</table>\n",
       "</div>"
      ],
      "text/plain": [
       "   person_age  person_income person_home_ownership  person_emp_length  \\\n",
       "0          22          59000                  RENT              123.0   \n",
       "1          21           9600                   OWN                5.0   \n",
       "2          25           9600              MORTGAGE                1.0   \n",
       "3          23          65500                  RENT                4.0   \n",
       "4          24          54400                  RENT                8.0   \n",
       "\n",
       "  loan_intent loan_grade  loan_amnt  loan_int_rate  loan_status  \\\n",
       "0    PERSONAL          D      35000          16.02            1   \n",
       "1   EDUCATION          B       1000          11.14            0   \n",
       "2     MEDICAL          C       5500          12.87            1   \n",
       "3     MEDICAL          C      35000          15.23            1   \n",
       "4     MEDICAL          C      35000          14.27            1   \n",
       "\n",
       "   loan_percent_income cb_person_default_on_file  cb_person_cred_hist_length  \n",
       "0                 0.59                         Y                           3  \n",
       "1                 0.10                         N                           2  \n",
       "2                 0.57                         N                           3  \n",
       "3                 0.53                         N                           2  \n",
       "4                 0.55                         Y                           4  "
      ]
     },
     "execution_count": 29,
     "metadata": {},
     "output_type": "execute_result"
    }
   ],
   "source": [
    "#puting this here insteand of scrolling up agian\n",
    "df = pd.read_csv(\"credit_risk_dataset.csv\")\n",
    "df.head()"
   ]
  },
  {
   "cell_type": "code",
   "execution_count": 31,
   "metadata": {},
   "outputs": [
    {
     "name": "stdout",
     "output_type": "stream",
     "text": [
      "Warning: Maximum number of iterations has been exceeded.\n",
      "         Current function value: 0.334068\n",
      "         Iterations: 35\n"
     ]
    },
    {
     "name": "stderr",
     "output_type": "stream",
     "text": [
      "C:\\Users\\Patrick\\anaconda3\\lib\\site-packages\\statsmodels\\base\\model.py:566: ConvergenceWarning: Maximum Likelihood optimization failed to converge. Check mle_retvals\n",
      "  warnings.warn(\"Maximum Likelihood optimization failed to \"\n"
     ]
    },
    {
     "data": {
      "text/html": [
       "<table class=\"simpletable\">\n",
       "<caption>Logit Regression Results</caption>\n",
       "<tr>\n",
       "  <th>Dep. Variable:</th>      <td>loan_status</td>   <th>  No. Observations:  </th>  <td>  8586</td> \n",
       "</tr>\n",
       "<tr>\n",
       "  <th>Model:</th>                 <td>Logit</td>      <th>  Df Residuals:      </th>  <td>  8563</td> \n",
       "</tr>\n",
       "<tr>\n",
       "  <th>Method:</th>                 <td>MLE</td>       <th>  Df Model:          </th>  <td>    22</td> \n",
       "</tr>\n",
       "<tr>\n",
       "  <th>Date:</th>            <td>Fri, 03 Dec 2021</td> <th>  Pseudo R-squ.:     </th>  <td>0.3642</td> \n",
       "</tr>\n",
       "<tr>\n",
       "  <th>Time:</th>                <td>23:03:01</td>     <th>  Log-Likelihood:    </th> <td> -2868.3</td>\n",
       "</tr>\n",
       "<tr>\n",
       "  <th>converged:</th>             <td>False</td>      <th>  LL-Null:           </th> <td> -4511.4</td>\n",
       "</tr>\n",
       "<tr>\n",
       "  <th>Covariance Type:</th>     <td>nonrobust</td>    <th>  LLR p-value:       </th>  <td> 0.000</td> \n",
       "</tr>\n",
       "</table>\n",
       "<table class=\"simpletable\">\n",
       "<tr>\n",
       "                 <td></td>                   <th>coef</th>     <th>std err</th>      <th>z</th>      <th>P>|z|</th>  <th>[0.025</th>    <th>0.975]</th>  \n",
       "</tr>\n",
       "<tr>\n",
       "  <th>Intercept</th>                      <td>   -4.3153</td> <td>    0.371</td> <td>  -11.640</td> <td> 0.000</td> <td>   -5.042</td> <td>   -3.589</td>\n",
       "</tr>\n",
       "<tr>\n",
       "  <th>person_home_ownership[T.OTHER]</th> <td>    0.5330</td> <td>    0.500</td> <td>    1.066</td> <td> 0.287</td> <td>   -0.447</td> <td>    1.513</td>\n",
       "</tr>\n",
       "<tr>\n",
       "  <th>person_home_ownership[T.OWN]</th>   <td>   -1.8656</td> <td>    0.210</td> <td>   -8.887</td> <td> 0.000</td> <td>   -2.277</td> <td>   -1.454</td>\n",
       "</tr>\n",
       "<tr>\n",
       "  <th>person_home_ownership[T.RENT]</th>  <td>    0.9052</td> <td>    0.079</td> <td>   11.389</td> <td> 0.000</td> <td>    0.749</td> <td>    1.061</td>\n",
       "</tr>\n",
       "<tr>\n",
       "  <th>loan_intent[T.EDUCATION]</th>       <td>   -0.9451</td> <td>    0.112</td> <td>   -8.411</td> <td> 0.000</td> <td>   -1.165</td> <td>   -0.725</td>\n",
       "</tr>\n",
       "<tr>\n",
       "  <th>loan_intent[T.HOMEIMPROVEMENT]</th> <td>   -0.1176</td> <td>    0.126</td> <td>   -0.930</td> <td> 0.352</td> <td>   -0.365</td> <td>    0.130</td>\n",
       "</tr>\n",
       "<tr>\n",
       "  <th>loan_intent[T.MEDICAL]</th>         <td>   -0.1371</td> <td>    0.106</td> <td>   -1.298</td> <td> 0.194</td> <td>   -0.344</td> <td>    0.070</td>\n",
       "</tr>\n",
       "<tr>\n",
       "  <th>loan_intent[T.PERSONAL]</th>        <td>   -0.6727</td> <td>    0.115</td> <td>   -5.859</td> <td> 0.000</td> <td>   -0.898</td> <td>   -0.448</td>\n",
       "</tr>\n",
       "<tr>\n",
       "  <th>loan_intent[T.VENTURE]</th>         <td>   -1.0437</td> <td>    0.120</td> <td>   -8.730</td> <td> 0.000</td> <td>   -1.278</td> <td>   -0.809</td>\n",
       "</tr>\n",
       "<tr>\n",
       "  <th>loan_grade[T.B]</th>                <td>    0.0118</td> <td>    0.153</td> <td>    0.077</td> <td> 0.938</td> <td>   -0.287</td> <td>    0.311</td>\n",
       "</tr>\n",
       "<tr>\n",
       "  <th>loan_grade[T.C]</th>                <td>    0.1021</td> <td>    0.229</td> <td>    0.446</td> <td> 0.656</td> <td>   -0.347</td> <td>    0.551</td>\n",
       "</tr>\n",
       "<tr>\n",
       "  <th>loan_grade[T.D]</th>                <td>    2.2476</td> <td>    0.288</td> <td>    7.797</td> <td> 0.000</td> <td>    1.683</td> <td>    2.813</td>\n",
       "</tr>\n",
       "<tr>\n",
       "  <th>loan_grade[T.E]</th>                <td>    2.5405</td> <td>    0.362</td> <td>    7.016</td> <td> 0.000</td> <td>    1.831</td> <td>    3.250</td>\n",
       "</tr>\n",
       "<tr>\n",
       "  <th>loan_grade[T.F]</th>                <td>    2.9227</td> <td>    0.521</td> <td>    5.615</td> <td> 0.000</td> <td>    1.903</td> <td>    3.943</td>\n",
       "</tr>\n",
       "<tr>\n",
       "  <th>loan_grade[T.G]</th>                <td>   24.1065</td> <td> 2.05e+04</td> <td>    0.001</td> <td> 0.999</td> <td>-4.01e+04</td> <td> 4.02e+04</td>\n",
       "</tr>\n",
       "<tr>\n",
       "  <th>cb_person_default_on_file[T.Y]</th> <td>    0.0014</td> <td>    0.098</td> <td>    0.015</td> <td> 0.988</td> <td>   -0.191</td> <td>    0.194</td>\n",
       "</tr>\n",
       "<tr>\n",
       "  <th>person_age</th>                     <td>   -0.0074</td> <td>    0.011</td> <td>   -0.667</td> <td> 0.505</td> <td>   -0.029</td> <td>    0.014</td>\n",
       "</tr>\n",
       "<tr>\n",
       "  <th>person_income</th>                  <td> 1.658e-06</td> <td> 7.38e-07</td> <td>    2.249</td> <td> 0.025</td> <td> 2.13e-07</td> <td>  3.1e-06</td>\n",
       "</tr>\n",
       "<tr>\n",
       "  <th>person_emp_length</th>              <td>   -0.0129</td> <td>    0.009</td> <td>   -1.400</td> <td> 0.162</td> <td>   -0.031</td> <td>    0.005</td>\n",
       "</tr>\n",
       "<tr>\n",
       "  <th>loan_amnt</th>                      <td>-9.521e-05</td> <td> 8.09e-06</td> <td>  -11.767</td> <td> 0.000</td> <td>   -0.000</td> <td>-7.94e-05</td>\n",
       "</tr>\n",
       "<tr>\n",
       "  <th>loan_int_rate</th>                  <td>    0.1039</td> <td>    0.034</td> <td>    3.091</td> <td> 0.002</td> <td>    0.038</td> <td>    0.170</td>\n",
       "</tr>\n",
       "<tr>\n",
       "  <th>loan_percent_income</th>            <td>   12.7226</td> <td>    0.470</td> <td>   27.098</td> <td> 0.000</td> <td>   11.802</td> <td>   13.643</td>\n",
       "</tr>\n",
       "<tr>\n",
       "  <th>cb_person_cred_hist_length</th>     <td>   -0.0064</td> <td>    0.017</td> <td>   -0.376</td> <td> 0.707</td> <td>   -0.040</td> <td>    0.027</td>\n",
       "</tr>\n",
       "</table>"
      ],
      "text/plain": [
       "<class 'statsmodels.iolib.summary.Summary'>\n",
       "\"\"\"\n",
       "                           Logit Regression Results                           \n",
       "==============================================================================\n",
       "Dep. Variable:            loan_status   No. Observations:                 8586\n",
       "Model:                          Logit   Df Residuals:                     8563\n",
       "Method:                           MLE   Df Model:                           22\n",
       "Date:                Fri, 03 Dec 2021   Pseudo R-squ.:                  0.3642\n",
       "Time:                        23:03:01   Log-Likelihood:                -2868.3\n",
       "converged:                      False   LL-Null:                       -4511.4\n",
       "Covariance Type:            nonrobust   LLR p-value:                     0.000\n",
       "==================================================================================================\n",
       "                                     coef    std err          z      P>|z|      [0.025      0.975]\n",
       "--------------------------------------------------------------------------------------------------\n",
       "Intercept                         -4.3153      0.371    -11.640      0.000      -5.042      -3.589\n",
       "person_home_ownership[T.OTHER]     0.5330      0.500      1.066      0.287      -0.447       1.513\n",
       "person_home_ownership[T.OWN]      -1.8656      0.210     -8.887      0.000      -2.277      -1.454\n",
       "person_home_ownership[T.RENT]      0.9052      0.079     11.389      0.000       0.749       1.061\n",
       "loan_intent[T.EDUCATION]          -0.9451      0.112     -8.411      0.000      -1.165      -0.725\n",
       "loan_intent[T.HOMEIMPROVEMENT]    -0.1176      0.126     -0.930      0.352      -0.365       0.130\n",
       "loan_intent[T.MEDICAL]            -0.1371      0.106     -1.298      0.194      -0.344       0.070\n",
       "loan_intent[T.PERSONAL]           -0.6727      0.115     -5.859      0.000      -0.898      -0.448\n",
       "loan_intent[T.VENTURE]            -1.0437      0.120     -8.730      0.000      -1.278      -0.809\n",
       "loan_grade[T.B]                    0.0118      0.153      0.077      0.938      -0.287       0.311\n",
       "loan_grade[T.C]                    0.1021      0.229      0.446      0.656      -0.347       0.551\n",
       "loan_grade[T.D]                    2.2476      0.288      7.797      0.000       1.683       2.813\n",
       "loan_grade[T.E]                    2.5405      0.362      7.016      0.000       1.831       3.250\n",
       "loan_grade[T.F]                    2.9227      0.521      5.615      0.000       1.903       3.943\n",
       "loan_grade[T.G]                   24.1065   2.05e+04      0.001      0.999   -4.01e+04    4.02e+04\n",
       "cb_person_default_on_file[T.Y]     0.0014      0.098      0.015      0.988      -0.191       0.194\n",
       "person_age                        -0.0074      0.011     -0.667      0.505      -0.029       0.014\n",
       "person_income                   1.658e-06   7.38e-07      2.249      0.025    2.13e-07     3.1e-06\n",
       "person_emp_length                 -0.0129      0.009     -1.400      0.162      -0.031       0.005\n",
       "loan_amnt                      -9.521e-05   8.09e-06    -11.767      0.000      -0.000   -7.94e-05\n",
       "loan_int_rate                      0.1039      0.034      3.091      0.002       0.038       0.170\n",
       "loan_percent_income               12.7226      0.470     27.098      0.000      11.802      13.643\n",
       "cb_person_cred_hist_length        -0.0064      0.017     -0.376      0.707      -0.040       0.027\n",
       "==================================================================================================\n",
       "\"\"\""
      ]
     },
     "execution_count": 31,
     "metadata": {},
     "output_type": "execute_result"
    }
   ],
   "source": [
    "#use the statsmodel forumla and define it\n",
    "form = \"loan_status ~ person_age + person_income + person_home_ownership + person_emp_length + loan_intent + loan_grade + loan_amnt + loan_int_rate + loan_percent_income + cb_person_default_on_file + cb_person_cred_hist_length\"\n",
    "model1 = sm.logit(data=train1, formula=form).fit()\n",
    "\n",
    "#Make predictions for later, get summary for now\n",
    "preds1 = model1.predict(test1)\n",
    "model1.summary()"
   ]
  },
  {
   "cell_type": "code",
   "execution_count": null,
   "metadata": {},
   "outputs": [],
   "source": [
    "#Get the head of the predictions. \n",
    "preds1.head()"
   ]
  },
  {
   "cell_type": "code",
   "execution_count": 33,
   "metadata": {},
   "outputs": [],
   "source": [
    "def convert_prob_to_label(prob, cutoff = 0.5):\n",
    "    label = []\n",
    "    for i in range(len(prob)):\n",
    "        if prob[i] > cutoff:\n",
    "            label.append(1)\n",
    "        else:\n",
    "            label.append(0)\n",
    "    return label"
   ]
  },
  {
   "cell_type": "code",
   "execution_count": 34,
   "metadata": {},
   "outputs": [],
   "source": [
    "labels = convert_prob_to_label(np.array(preds1))"
   ]
  },
  {
   "cell_type": "code",
   "execution_count": null,
   "metadata": {},
   "outputs": [],
   "source": [
    "#I comment out the confusion matrix because it does not work\n",
    "#from sklearn.metrics import confusion_matrix\n",
    "#conf_matrix = confusion_matrix(test1[\"Outcome\"], labels)\n",
    "#sns.heatmap(conf_matrix, annot=True)"
   ]
  },
  {
   "cell_type": "code",
   "execution_count": 43,
   "metadata": {},
   "outputs": [
    {
     "name": "stdout",
     "output_type": "stream",
     "text": [
      "Acc%: 0.8560028062790493\n",
      "F1: 0.5960639606396063\n"
     ]
    }
   ],
   "source": [
    "#Use these 2 meterics becuase the confusion matrick does not work\n",
    "print(\"Acc%:\", accuracy_score(test1[\"loan_status\"], labels))\n",
    "print(\"F1:\", f1_score(test1[\"loan_status\"], labels))"
   ]
  },
  {
   "cell_type": "markdown",
   "metadata": {},
   "source": [
    "<h2>Part 4 talking about the model part is it good or nah?</h2>\n",
    "<p>I personally don't think my models is good for either one becuase for the logistic regression I could not get a visual chart displaying so the person seeing this might not understand the loan status </p>\n",
    "<p>As for the linear regression I felt my graph is a kinda hard to read becuase all the dots are all cluster togther  because I have a feeling my data is not clean or the numbers are too big.</p>"
   ]
  }
 ],
 "metadata": {
  "interpreter": {
   "hash": "ea39297c2a3b8433e0e3c4b620aff79df88eb4bda961dfb2311fbafd7efdbd77"
  },
  "kernelspec": {
   "display_name": "Python 3.8.11 64-bit ('base': conda)",
   "language": "python",
   "name": "python3"
  },
  "language_info": {
   "codemirror_mode": {
    "name": "ipython",
    "version": 3
   },
   "file_extension": ".py",
   "mimetype": "text/x-python",
   "name": "python",
   "nbconvert_exporter": "python",
   "pygments_lexer": "ipython3",
   "version": "3.8.8"
  },
  "orig_nbformat": 4
 },
 "nbformat": 4,
 "nbformat_minor": 2
}
